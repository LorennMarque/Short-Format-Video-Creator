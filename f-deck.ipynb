{
 "cells": [
  {
   "cell_type": "code",
   "execution_count": 1,
   "metadata": {},
   "outputs": [],
   "source": [
    "import random"
   ]
  },
  {
   "cell_type": "code",
   "execution_count": 17,
   "metadata": {},
   "outputs": [
    {
     "data": {
      "text/plain": [
       "{'tips': ['tip 1', 'tip 2', 'tip 3', 'tip 4', 'tip 5', 'tip 6', 'tip 7']}"
      ]
     },
     "execution_count": 17,
     "metadata": {},
     "output_type": "execute_result"
    }
   ],
   "source": [
    "data = {\n",
    "  \"tips\": [\n",
    "    \"tip 1\",\n",
    "    \"tip 2\",\n",
    "    \"tip 3\",\n",
    "    \"tip 4\",\n",
    "    \"tip 5\",\n",
    "    \"tip 6\",\n",
    "    \"tip 7\"\n",
    "  ],\n",
    "}\n",
    "\n",
    "data"
   ]
  },
  {
   "cell_type": "markdown",
   "metadata": {},
   "source": [
    "# First Shuffle"
   ]
  },
  {
   "cell_type": "code",
   "execution_count": 19,
   "metadata": {},
   "outputs": [],
   "source": [
    "shufled_data = data[\"tips\"]\n",
    "random.shuffle(shufled_data)"
   ]
  },
  {
   "cell_type": "code",
   "execution_count": 20,
   "metadata": {},
   "outputs": [
    {
     "data": {
      "text/plain": [
       "['tip 1', 'tip 4', 'tip 7', 'tip 3', 'tip 5', 'tip 6', 'tip 2']"
      ]
     },
     "execution_count": 20,
     "metadata": {},
     "output_type": "execute_result"
    }
   ],
   "source": [
    "shufled_data"
   ]
  },
  {
   "cell_type": "markdown",
   "metadata": {},
   "source": [
    "## Loop to store in blocks"
   ]
  },
  {
   "cell_type": "code",
   "execution_count": 102,
   "metadata": {},
   "outputs": [
    {
     "name": "stdout",
     "output_type": "stream",
     "text": [
      "{'Block 1': ['tip 3', 'tip 2', 'tip 4'], 'Block 2': ['tip 1', 'tip 2', 'tip 5'], 'Block 3': ['tip 7', 'tip 4', 'tip 6'], 'Block 4': ['tip 3', 'tip 1', 'tip 2']}\n"
     ]
    }
   ],
   "source": [
    "f_deck = {}\n",
    "\n",
    "# Define the length of shufled_data\n",
    "data_length = len(shufled_data)\n",
    "\n",
    "# First iteration\n",
    "f_deck[\"Block 1\"] = [\n",
    "    shufled_data[0],\n",
    "    shufled_data[1],\n",
    "    shufled_data[2]\n",
    "]\n",
    "first_index = 0\n",
    "last_index = 2\n",
    "\n",
    "# Iterations from 2 to n\n",
    "for i in range(2):\n",
    "    first = (last_index + 1) % data_length\n",
    "    second = (first_index + 1) % data_length\n",
    "    third = (last_index + 2) % data_length\n",
    "\n",
    "    f_deck[\"Block \" + str(i+2)] = [\n",
    "        shufled_data[first],\n",
    "        shufled_data[second],\n",
    "        shufled_data[third]\n",
    "    ]\n",
    "\n",
    "    first_index = second\n",
    "    last_index = third\n",
    "\n",
    "f_deck\n"
   ]
  },
  {
   "cell_type": "code",
   "execution_count": 90,
   "metadata": {},
   "outputs": [
    {
     "data": {
      "text/plain": [
       "{'Block 1': ['tip 1', 'tip 4', 'tip 7'],\n",
       " 'Block 2': ['tip 3', 'tip 1', 'tip 5'],\n",
       " 'Block 3': ['tip 6', 'tip 4', 'tip 2']}"
      ]
     },
     "execution_count": 90,
     "metadata": {},
     "output_type": "execute_result"
    }
   ],
   "source": []
  }
 ],
 "metadata": {
  "kernelspec": {
   "display_name": "Python 3",
   "language": "python",
   "name": "python3"
  },
  "language_info": {
   "codemirror_mode": {
    "name": "ipython",
    "version": 3
   },
   "file_extension": ".py",
   "mimetype": "text/x-python",
   "name": "python",
   "nbconvert_exporter": "python",
   "pygments_lexer": "ipython3",
   "version": "3.11.8"
  }
 },
 "nbformat": 4,
 "nbformat_minor": 2
}
